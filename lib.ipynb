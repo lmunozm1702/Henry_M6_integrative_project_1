{
 "cells": [
  {
   "cell_type": "code",
   "execution_count": null,
   "metadata": {},
   "outputs": [],
   "source": [
    "def print_missing_values_table(data):\n",
    "  mis_val = data.isnull().sum()\n",
    "  not_null_val = data.notnull().sum()\n",
    "  mis_val_percent = 100 * data.isnull().sum() / len(data)\n",
    "  mz_table = pd.concat([not_null_val, mis_val, mis_val_percent], axis=1)\n",
    "  mz_table = mz_table.rename(\n",
    "  columns = {0 : 'Not Null', 1 : 'Missing Values', 2 : '% of Total Values'})\n",
    "\n",
    "  mz_table['Data Type'] = data.dtypes\n",
    "  mz_table = mz_table[\n",
    "  mz_table.iloc[:,1] != 0].sort_values(\n",
    "  '% of Total Values', ascending=False).round(3)\n",
    "  return mz_table\n",
    "\n",
    "def boxplot_graph(data, num_cols):\n",
    "  fig, ax = plt.subplots(nrows=num_cols.shape[0], ncols=1, figsize=(8, 30))\n",
    "  fig.subplots_adjust(hspace=0.5, wspace=0.5)\n",
    "  for i, col in enumerate(num_cols):\n",
    "    sns.boxplot(data=data, x=col, ax=ax[i])\n",
    "    ax[i].set_title(col)\n",
    "\n",
    "def count_plot(data, cat_cols):\n",
    "  fig, ax = plt.subplots(nrows=cat_cols.shape[0], ncols=1, figsize=(10, 60))\n",
    "  fig.subplots_adjust(hspace=8, wspace=3)\n",
    "  for i, col in enumerate(cat_cols):\n",
    "    sns.countplot(data=data, x=col, ax=ax[i])\n",
    "    ax[i].set_title(col)\n",
    "    ax[i].set_xticklabels(ax[i].get_xticklabels(), rotation=30)\n",
    "\n",
    "def histogram_graph(data, num_cols):\n",
    "  fig, ax = plt.subplots(nrows=num_cols.shape[0], ncols=1, figsize=(8, 30))\n",
    "  fig.subplots_adjust(hspace=0.5, wspace=0.5)\n",
    "  for i, col in enumerate(num_cols):\n",
    "    sns.histplot(data=data, x=col, ax=ax[i])\n",
    "    ax[i].set_title(col)"
   ]
  }
 ],
 "metadata": {
  "kernelspec": {
   "display_name": "henry",
   "language": "python",
   "name": "python3"
  },
  "language_info": {
   "name": "python",
   "version": "3.12.7"
  }
 },
 "nbformat": 4,
 "nbformat_minor": 2
}
