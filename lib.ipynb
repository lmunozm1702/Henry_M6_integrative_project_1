{
 "cells": [
  {
   "cell_type": "code",
   "execution_count": null,
   "metadata": {},
   "outputs": [],
   "source": [
    "def print_missing_values_table(data):\n",
    "  mis_val = data.isnull().sum()\n",
    "  not_null_val = data.notnull().sum()\n",
    "  mis_val_percent = 100 * data.isnull().sum() / len(data)\n",
    "  mz_table = pd.concat([not_null_val, mis_val, mis_val_percent], axis=1)\n",
    "  mz_table = mz_table.rename(\n",
    "  columns = {0 : 'Not Null', 1 : 'Missing Values', 2 : '% of Total Values'})\n",
    "\n",
    "  mz_table['Data Type'] = data.dtypes\n",
    "  mz_table = mz_table[\n",
    "  mz_table.iloc[:,1] != 0].sort_values(\n",
    "  '% of Total Values', ascending=False).round(3)\n",
    "  return mz_table"
   ]
  }
 ],
 "metadata": {
  "kernelspec": {
   "display_name": "henry",
   "language": "python",
   "name": "python3"
  },
  "language_info": {
   "name": "python",
   "version": "3.12.7"
  }
 },
 "nbformat": 4,
 "nbformat_minor": 2
}
